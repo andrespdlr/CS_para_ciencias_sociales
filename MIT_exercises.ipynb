{
 "cells": [
  {
   "cell_type": "markdown",
   "metadata": {},
   "source": [
    "# Ejercicios de práctica MIT"
   ]
  },
  {
   "cell_type": "markdown",
   "metadata": {},
   "source": [
    "1) Write a piece of Python code that prints out the string 'hello world' if the value of an integer variable, happy, is strictly greater than 2."
   ]
  },
  {
   "cell_type": "code",
   "execution_count": null,
   "metadata": {
    "collapsed": true
   },
   "outputs": [],
   "source": []
  },
  {
   "cell_type": "markdown",
   "metadata": {},
   "source": [
    "2) Assume that two variables, varA and varB, are assigned values, either numbers or strings.\n",
    "Write a piece of Python code that evaluates varA and varB, and then prints out one of the following messages:\n",
    "\n",
    "•\t\"string involved\" if either varA or varB are strings\n",
    "\n",
    "•\t\"bigger\" if varA is larger than varB\n",
    "\n",
    "•\t\"equal\" if varA is equal to varB\n",
    "\n",
    "•\t\"smaller\" if varA is smaller than varB\n"
   ]
  },
  {
   "cell_type": "code",
   "execution_count": null,
   "metadata": {
    "collapsed": true
   },
   "outputs": [],
   "source": []
  },
  {
   "cell_type": "markdown",
   "metadata": {},
   "source": [
    "3) Convert the following into code that uses a while loop.\n",
    "\n",
    "print 2\n",
    "\n",
    "prints 4\n",
    "\n",
    "prints 6\n",
    "\n",
    "prints 8\n",
    "\n",
    "prints 10\n",
    "\n",
    "prints Goodbye!\n"
   ]
  },
  {
   "cell_type": "code",
   "execution_count": null,
   "metadata": {
    "collapsed": true
   },
   "outputs": [],
   "source": []
  },
  {
   "cell_type": "markdown",
   "metadata": {},
   "source": [
    "4) Convert the following code into code that uses a for loop.\n",
    "prints 2\n",
    "\n",
    "prints 4\n",
    "\n",
    "prints 6\n",
    "\n",
    "prints 8\n",
    "\n",
    "prints 10\n",
    "\n",
    "prints \"Goodbye!\"\n"
   ]
  },
  {
   "cell_type": "markdown",
   "metadata": {},
   "source": [
    "5) Assume s is a string of lower case characters.\n",
    "Write a program that counts up the number of vowels contained in the string s. Valid vowels are: 'a', 'e', 'i', 'o', and 'u'. For example, if s = 'azcbobobegghakl', your program should print: \n",
    "\n",
    "```Number of vowels: 5```\n"
   ]
  },
  {
   "cell_type": "code",
   "execution_count": null,
   "metadata": {
    "collapsed": true
   },
   "outputs": [],
   "source": []
  },
  {
   "cell_type": "markdown",
   "metadata": {},
   "source": [
    "6. Assume s is a string of lower case characters.\n",
    "Write a program that prints the number of times the string 'bob' occurs in s. For example, if s = 'azcbobobegghakl', then your program should print:\n",
    "\n",
    "Number of times bob occurs is: 2\n",
    "\n"
   ]
  },
  {
   "cell_type": "code",
   "execution_count": null,
   "metadata": {
    "collapsed": true
   },
   "outputs": [],
   "source": []
  },
  {
   "cell_type": "markdown",
   "metadata": {},
   "source": [
    "7. Assume s is a string of lower case characters.\n",
    "Write a program that prints the longest substring of s in which the letters occur in alphabetical order. For example, if s = 'azcbobobegghakl', then your program should print:\n",
    "\n",
    "Longest substring in alphabetical order is: beggh\n",
    "\n",
    "In the case of ties, print the first substring. For example, if s = 'abcbcd', then your program should print:\n",
    "\n",
    "Longest substring in alphabetical order is: abc\n",
    "\n"
   ]
  },
  {
   "cell_type": "code",
   "execution_count": null,
   "metadata": {
    "collapsed": true
   },
   "outputs": [],
   "source": []
  },
  {
   "cell_type": "markdown",
   "metadata": {},
   "source": [
    "8. In this problem, you'll create a program that guesses a secret number!\n",
    "The program works as follows: you (the user) thinks of an integer between 0 (inclusive) and 100 (not inclusive). The computer makes guesses, and you give it input - is its guess too high or too low? Using bisection search, the computer will guess the user's secret number!\n",
    "Here is a transcript of an example session:\n",
    "Please think of a number between 0 and 100!\n",
    "Is your secret number 50?\n",
    "Enter 'h' to indicate the guess is too high. Enter 'l' to indicate the guess is too low. Enter 'c' to indicate I guessed correctly. l\n",
    "Is your secret number 75?\n",
    "Enter 'h' to indicate the guess is too high. Enter 'l' to indicate the guess is too low. Enter 'c' to indicate I guessed correctly. l\n",
    "Is your secret number 87?\n",
    "Enter 'h' to indicate the guess is too high. Enter 'l' to indicate the guess is too low. Enter 'c' to indicate I guessed correctly. h\n",
    "Is your secret number 81?\n",
    "Enter 'h' to indicate the guess is too high. Enter 'l' to indicate the guess is too low. Enter 'c' to indicate I guessed correctly. l\n",
    "Is your secret number 84?\n",
    "Enter 'h' to indicate the guess is too high. Enter 'l' to indicate the guess is too low. Enter 'c' to indicate I guessed correctly. h\n",
    "Is your secret number 82?\n",
    "Enter 'h' to indicate the guess is too high. Enter 'l' to indicate the guess is too low. Enter 'c' to indicate I guessed correctly. l\n",
    "Is your secret number 83?\n",
    "Enter 'h' to indicate the guess is too high. Enter 'l' to indicate the guess is too low. Enter 'c' to indicate I guessed correctly. c\n",
    "Game over. Your secret number was: 83\n",
    "\n",
    "Note: your program should use input to obtain the user's input! Be sure to handle the case when the user's input is not one of h, l, or c.\n",
    "When the user enters something invalid, you should print out a message to the user explaining you did not understand their input. Then, you should re-ask the question, and prompt again for input. For example:\n",
    "Is your secret number 91?\n",
    "Enter 'h' to indicate the guess is too high. Enter 'l' to indicate the guess is too low. Enter 'c' to indicate I guessed correctly. y\n",
    "Sorry, I did not understand your input.\n",
    "Is your secret number 91?\n",
    "Enter 'h' to indicate the guess is too high. Enter 'l' to indicate the guess is too low. Enter 'c' to indicate I guessed correctly. c\n",
    "\n"
   ]
  },
  {
   "cell_type": "code",
   "execution_count": null,
   "metadata": {
    "collapsed": true
   },
   "outputs": [],
   "source": []
  },
  {
   "cell_type": "markdown",
   "metadata": {},
   "source": [
    "9. Write a Python function, square, that takes in one number and returns the square of that number.\n",
    "This function takes in one number and returns one number.\n"
   ]
  },
  {
   "cell_type": "code",
   "execution_count": null,
   "metadata": {
    "collapsed": true
   },
   "outputs": [],
   "source": []
  },
  {
   "cell_type": "markdown",
   "metadata": {},
   "source": [
    "10. Write a Python function, evalQuadratic(a, b, c, x), that returns the value of the quadratic a⋅x2+b⋅x+c.\n",
    "This function takes in four numbers and returns a single number.\n"
   ]
  },
  {
   "cell_type": "code",
   "execution_count": null,
   "metadata": {
    "collapsed": true
   },
   "outputs": [],
   "source": []
  },
  {
   "cell_type": "markdown",
   "metadata": {},
   "source": [
    "11. Write a Python function, fourthPower, that takes in one number and returns that value raised to the fourth power.\n",
    "You should use the square procedure that you defined in an earlier exercise (you don't need to redefine square in this box; when you call square, the grader will use our definition).\n",
    "This function takes in one number and returns one number.\n"
   ]
  },
  {
   "cell_type": "code",
   "execution_count": null,
   "metadata": {
    "collapsed": true
   },
   "outputs": [],
   "source": []
  },
  {
   "cell_type": "markdown",
   "metadata": {},
   "source": [
    "12. Write a Python function, odd, that takes in one number and returns True when the number is odd and Falseotherwise.\n",
    "You should use the % (mod) operator, not if.\n",
    "This function takes in one number and returns a boolean.\n"
   ]
  },
  {
   "cell_type": "code",
   "execution_count": null,
   "metadata": {
    "collapsed": true
   },
   "outputs": [],
   "source": []
  },
  {
   "cell_type": "markdown",
   "metadata": {},
   "source": [
    "13. Write an iterative function iterPower(base, exp) that calculates the exponential baseexp by simply using successive multiplication. For example, iterPower(base, exp) should compute baseexp by multiplying basetimes itself exp times. Write such a function below.\n",
    "This function should take in two values - base can be a float or an integer; exp will be an integer ≥ 0. It should return one numerical value. Your code must be iterative - use of the ** operator is not allowed."
   ]
  },
  {
   "cell_type": "code",
   "execution_count": null,
   "metadata": {
    "collapsed": true
   },
   "outputs": [],
   "source": []
  },
  {
   "cell_type": "markdown",
   "metadata": {},
   "source": [
    "14. The greatest common divisor of two positive integers is the largest integer that divides each of them without remainder. For example,\n",
    "•\tgcd(2, 12) = 2\n",
    "•\tgcd(6, 12) = 6\n",
    "•\tgcd(9, 12) = 3\n",
    "•\tgcd(17, 12) = 1\n",
    "Write an iterative function, gcdIter(a, b), that implements this idea. One easy way to do this is to begin with a test value equal to the smaller of the two input arguments, and iteratively reduce this test value by 1 until you either reach a case where the test divides both a and b without remainder, or you reach 1.\n"
   ]
  },
  {
   "cell_type": "code",
   "execution_count": null,
   "metadata": {
    "collapsed": true
   },
   "outputs": [],
   "source": []
  },
  {
   "cell_type": "markdown",
   "metadata": {},
   "source": [
    "15. The greatest common divisor of two positive integers is the largest integer that divides each of them without remainder. For example,\n",
    "•\tgcd(2, 12) = 2\n",
    "•\tgcd(6, 12) = 6\n",
    "•\tgcd(9, 12) = 3\n",
    "•\tgcd(17, 12) = 1\n",
    "A clever mathematical trick (due to Euclid) makes it easy to find greatest common divisors. Suppose that a and bare two positive integers:\n",
    "•\tIf b = 0, then the answer is a\n",
    "•\tOtherwise, gcd(a, b) is the same as gcd(b, a % b)\n",
    "Write a function gcdRecur(a, b) that implements this idea recursively. This function takes in two positive integers and returns one integer."
   ]
  },
  {
   "cell_type": "code",
   "execution_count": null,
   "metadata": {
    "collapsed": true
   },
   "outputs": [],
   "source": []
  },
  {
   "cell_type": "markdown",
   "metadata": {},
   "source": [
    "16. We can use the idea of bisection search to determine if a character is in a string, so long as the string is sorted in alphabetical order.\n",
    "First, test the middle character of a string against the character you're looking for (the \"test character\"). If they are the same, we are done - we've found the character we're looking for!\n",
    "If they're not the same, check if the test character is \"smaller\" than the middle character. If so, we need only consider the lower half of the string; otherwise, we only consider the upper half of the string. (Note that you can compare characters using Python's < function.)\n",
    "Implement the function isIn(char, aStr) which implements the above idea recursively to test if char is in aStr. char will be a single character and aStr will be a string that is in alphabetical order. The function should return a boolean value.\n",
    "As you design the function, think very carefully about what the base cases should be.\n"
   ]
  },
  {
   "cell_type": "code",
   "execution_count": null,
   "metadata": {
    "collapsed": true
   },
   "outputs": [],
   "source": []
  },
  {
   "cell_type": "markdown",
   "metadata": {},
   "source": [
    "17. Write a procedure called oddTuples, which takes a tuple as input, and returns a new tuple as output, where every other element of the input tuple is copied, starting with the first one. So if test is the tuple('I', 'am', 'a', 'test', 'tuple'), then evaluating oddTuples on this input would return the tuple('I', 'a', 'tuple').\n",
    "\n"
   ]
  },
  {
   "cell_type": "code",
   "execution_count": null,
   "metadata": {
    "collapsed": true
   },
   "outputs": [],
   "source": []
  },
  {
   "cell_type": "markdown",
   "metadata": {},
   "source": [
    "18. Here is the code for a function applyToEach:\n",
    "def applyToEach(L, f):\n",
    "    for i in range(len(L)):\n",
    "        L[i] = f(L[i])\n",
    "Assume that\n",
    "testList = [1, -4, 8, -9]\n",
    "For each of the following questions (which you may assume is evaluated independently of the previous questions, so that testList has the value indicated above), provide an expression using applyToEach, so that after evaluation testList has the indicated value. You may need to write a simple procedure in each question to help with this process.\n",
    "\t \n"
   ]
  },
  {
   "cell_type": "code",
   "execution_count": null,
   "metadata": {
    "collapsed": true
   },
   "outputs": [],
   "source": []
  },
  {
   "cell_type": "markdown",
   "metadata": {},
   "source": [
    "19. Consider the following sequence of expressions:\n",
    "animals = { 'a': ['aardvark'], 'b': ['baboon'], 'c': ['coati']}\n",
    "\n",
    "animals['d'] = ['donkey']\n",
    "animals['d'].append('dog')\n",
    "animals['d'].append('dingo')\n",
    "We want to write some simple procedures that work on dictionaries to return information.\n",
    "First, write a procedure, called how_many, which returns the sum of the number of values associated with a dictionary. For example:\n",
    ">>> print(how_many(animals))\n",
    "6\n",
    "\n"
   ]
  },
  {
   "cell_type": "code",
   "execution_count": null,
   "metadata": {
    "collapsed": true
   },
   "outputs": [],
   "source": []
  },
  {
   "cell_type": "markdown",
   "metadata": {},
   "source": [
    "20. Consider the following sequence of expressions:\n",
    "animals = { 'a': ['aardvark'], 'b': ['baboon'], 'c': ['coati']}\n",
    "\n",
    "animals['d'] = ['donkey']\n",
    "animals['d'].append('dog')\n",
    "animals['d'].append('dingo')\n",
    "We want to write some simple procedures that work on dictionaries to return information.\n",
    "This time, write a procedure, called biggest, which returns the key corresponding to the entry with the largest number of values associated with it. If there is more than one such entry, return any one of the matching keys.\n",
    "Example usage:\n",
    ">>> biggest(animals)\n",
    "'d'\n",
    "If there are no values in the dictionary, biggest should return None."
   ]
  },
  {
   "cell_type": "code",
   "execution_count": null,
   "metadata": {
    "collapsed": true
   },
   "outputs": [],
   "source": []
  },
  {
   "cell_type": "markdown",
   "metadata": {},
   "source": [
    "21. Consider the following function definition:\n",
    "def integerDivision(x, a):\n",
    "    \"\"\"\n",
    "    x: a non-negative integer argument\n",
    "    a: a positive integer argument\n",
    "\n",
    "    returns: integer, the integer division of x divided by a.\n",
    "    \"\"\"\n",
    "    while x >= a:\n",
    "        count += 1\n",
    "        x = x - a\n",
    "    return count\n",
    "When we call\n",
    "print(integerDivision(5, 3))\n",
    "we get the following error message:\n",
    "File \"temp.py\", line 9, in integerDivision\n",
    "    count += 1\n",
    "UnboundLocalError: local variable 'count' referenced before assignment\n",
    "Your task is to modify the code for integerDivision so that this error does not occur."
   ]
  },
  {
   "cell_type": "code",
   "execution_count": null,
   "metadata": {
    "collapsed": true
   },
   "outputs": [],
   "source": []
  },
  {
   "cell_type": "markdown",
   "metadata": {},
   "source": [
    "22. Implement a function called closest_power that meets the specifications below.\n",
    "def closest_power(base, num):\n",
    "    '''\n",
    "    base: base of the exponential, integer > 1\n",
    "    num: number you want to be closest to, integer > 0\n",
    "    Find the integer exponent such that base**exponent is closest to num.\n",
    "    Note that the base**exponent may be either greater or smaller than num.\n",
    "    In case of a tie, return the smaller value.\n",
    "    Returns the exponent.\n",
    "    '''\n",
    "    # Your code here\n",
    "For example,\n",
    "•\tclosest_power(3,12) returns 2\n",
    "•\tclosest_power(4,12) returns 2\n",
    "•\tclosest_power(4,1) returns 0\n",
    "Paste your entire function, including the definition, in the box below. Do not leave any debugging print statements."
   ]
  },
  {
   "cell_type": "code",
   "execution_count": null,
   "metadata": {
    "collapsed": true
   },
   "outputs": [],
   "source": []
  },
  {
   "cell_type": "markdown",
   "metadata": {},
   "source": [
    "23. Write a Python function that returns the sum of the pairwise products of listA and listB. You should assume that listA and listB have the same length and are two lists of integer numbers. For example, if listA = [1, 2, 3] and listB = [4, 5, 6], the dot product is 1*4 + 2*5 + 3*6, meaning your function should return: 32\n",
    "Hint: You will need to traverse both lists in parallel.\n",
    "This function takes in two lists of numbers and returns a number.\n",
    "def dotProduct(listA, listB):\n",
    "    '''\n",
    "    listA: a list of numbers\n",
    "    listB: a list of numbers of the same length as listA\n",
    "    '''\n",
    "    # Your code here\n",
    "    \n",
    "\n"
   ]
  },
  {
   "cell_type": "code",
   "execution_count": null,
   "metadata": {
    "collapsed": true
   },
   "outputs": [],
   "source": []
  },
  {
   "cell_type": "markdown",
   "metadata": {},
   "source": [
    "24. Implement a function that meets the specifications below.\n",
    "def deep_reverse(L):\n",
    "    \"\"\" assumes L is a list of lists whose elements are ints\n",
    "    Mutates L such that it reverses its elements and also \n",
    "    reverses the order of the int elements in every element of L. \n",
    "    It does not return anything.\n",
    "    \"\"\"\n",
    "    # Your code here\n",
    "For example, if L = [[1, 2], [3, 4], [5, 6, 7]] then deep_reverse(L) mutates L to be [[7, 6, 5], [4, 3], [2, 1]]\n",
    "Paste your entire function, including the definition, in the box below. Do not leave any debugging print statements.\n"
   ]
  },
  {
   "cell_type": "code",
   "execution_count": null,
   "metadata": {
    "collapsed": true
   },
   "outputs": [],
   "source": []
  },
  {
   "cell_type": "markdown",
   "metadata": {},
   "source": [
    "25. Write a function is_triangular that meets the specification below. A triangular number is a number obtained by the continued summation of integers starting from 1. For example, 1, 1+2, 1+2+3, 1+2+3+4, etc., corresponding to 1, 3, 6, 10, etc., are triangular numbers.\n",
    "def is_triangular(k):\n",
    "    \"\"\"\n",
    "    k, a positive integer\n",
    "    returns True if k is triangular and False if not\n",
    "    \"\"\"\n",
    "    #YOUR CODE HERE\n",
    "Paste your entire function, including the definition, in the box below. Do not leave any debugging print statements."
   ]
  },
  {
   "cell_type": "code",
   "execution_count": null,
   "metadata": {
    "collapsed": true
   },
   "outputs": [],
   "source": []
  },
  {
   "cell_type": "markdown",
   "metadata": {},
   "source": [
    "26. In this problem, you'll be asked to read through an object-oriented implementation of the hand from the word game problem of Problem Set 4. You'll then be asked to implement one of its methods. Note that the implementation of the object-oriented version of the hand is a bit different than how we did things with the functional implementation; pay close attention to doc strings and read through the implementation carefully.\n",
    "To begin: Download hand.py and read through the file. Be sure to understand what's going on in the file. Make a few instances of the Hand class, and play around with the existing methods.\n",
    "When you have completed reading through the file, implement the update method.\n",
    "Paste the entire Hand class in the box below.\n",
    "The __str__ method is this:\n",
    "    def __str__(self):\n",
    "        '''\n",
    "        Display a string representation of the hand.\n",
    "        '''\n",
    "        output = ''\n",
    "        hand_keys = self.hand.keys()\n",
    "        hand_keys.sort()\n",
    "        for letter in hand_keys:\n",
    "            for j in range(self.hand[letter]):\n",
    "                output += letter\n",
    "        return output\n",
    "A more concise version of this code might be\n",
    "    def __str__(self):\n",
    "        '''\n",
    "        Display a string representation of the hand.\n",
    "        '''\n",
    "        output = ''\n",
    "        for letter in sorted(self.hand.keys()):\n",
    "            output += letter * self.hand[letter]\n",
    "        return output\n",
    "Use whichever __str__ method you like. This will make sure the grading of the hand's display is consistent."
   ]
  },
  {
   "cell_type": "code",
   "execution_count": null,
   "metadata": {
    "collapsed": true
   },
   "outputs": [],
   "source": []
  },
  {
   "cell_type": "markdown",
   "metadata": {},
   "source": [
    "\n",
    "27. \tWrite a generator, genPrimes, that returns the sequence of prime numbers on successive calls to its next()method: 2, 3, 5, 7, 11, ...\n",
    "\n",
    "\n"
   ]
  },
  {
   "cell_type": "code",
   "execution_count": null,
   "metadata": {
    "collapsed": true
   },
   "outputs": [],
   "source": []
  },
  {
   "cell_type": "markdown",
   "metadata": {},
   "source": []
  },
  {
   "cell_type": "code",
   "execution_count": null,
   "metadata": {
    "collapsed": true
   },
   "outputs": [],
   "source": []
  },
  {
   "cell_type": "markdown",
   "metadata": {},
   "source": []
  },
  {
   "cell_type": "code",
   "execution_count": null,
   "metadata": {
    "collapsed": true
   },
   "outputs": [],
   "source": []
  },
  {
   "cell_type": "markdown",
   "metadata": {},
   "source": []
  },
  {
   "cell_type": "code",
   "execution_count": null,
   "metadata": {
    "collapsed": true
   },
   "outputs": [],
   "source": []
  },
  {
   "cell_type": "markdown",
   "metadata": {},
   "source": []
  },
  {
   "cell_type": "code",
   "execution_count": null,
   "metadata": {
    "collapsed": true
   },
   "outputs": [],
   "source": []
  },
  {
   "cell_type": "markdown",
   "metadata": {},
   "source": []
  },
  {
   "cell_type": "code",
   "execution_count": null,
   "metadata": {
    "collapsed": true
   },
   "outputs": [],
   "source": []
  },
  {
   "cell_type": "markdown",
   "metadata": {},
   "source": []
  },
  {
   "cell_type": "code",
   "execution_count": null,
   "metadata": {
    "collapsed": true
   },
   "outputs": [],
   "source": []
  },
  {
   "cell_type": "markdown",
   "metadata": {},
   "source": []
  },
  {
   "cell_type": "code",
   "execution_count": null,
   "metadata": {
    "collapsed": true
   },
   "outputs": [],
   "source": []
  },
  {
   "cell_type": "markdown",
   "metadata": {},
   "source": []
  },
  {
   "cell_type": "code",
   "execution_count": null,
   "metadata": {
    "collapsed": true
   },
   "outputs": [],
   "source": []
  },
  {
   "cell_type": "markdown",
   "metadata": {},
   "source": []
  },
  {
   "cell_type": "code",
   "execution_count": null,
   "metadata": {
    "collapsed": true
   },
   "outputs": [],
   "source": []
  }
 ],
 "metadata": {
  "kernelspec": {
   "display_name": "Python 3",
   "language": "python",
   "name": "python3"
  },
  "language_info": {
   "codemirror_mode": {
    "name": "ipython",
    "version": 3
   },
   "file_extension": ".py",
   "mimetype": "text/x-python",
   "name": "python",
   "nbconvert_exporter": "python",
   "pygments_lexer": "ipython3",
   "version": "3.6.1"
  }
 },
 "nbformat": 4,
 "nbformat_minor": 2
}
