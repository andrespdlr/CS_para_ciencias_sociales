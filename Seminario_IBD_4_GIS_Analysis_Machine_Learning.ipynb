{
 "cells": [
  {
   "cell_type": "code",
   "execution_count": 30,
   "metadata": {
    "collapsed": true
   },
   "outputs": [],
   "source": [
    "paises = ['Afghanistan',\n",
    "          'Angola',\n",
    "          'Albania',\n",
    "          'United Arab Emirates',\n",
    "          'Argentina',\n",
    "          'Armenia',\n",
    "          'Fr. S. Antarctic Lands',\n",
    "          'Australia',\n",
    "          'Austria',\n",
    "          'Azerbaijan',\n",
    "          'Burundi',\n",
    "          'Belgium',\n",
    "          'Benin',\n",
    "          'Burkina Faso',\n",
    "          'Bangladesh',\n",
    "          'Bulgaria',\n",
    "          'Bahamas',\n",
    "          'Bosnia and Herz.',\n",
    "          'Belarus',\n",
    "          'Belize']"
   ]
  },
  {
   "cell_type": "code",
   "execution_count": 31,
   "metadata": {
    "collapsed": true
   },
   "outputs": [],
   "source": [
    "import datetime"
   ]
  },
  {
   "cell_type": "code",
   "execution_count": 32,
   "metadata": {},
   "outputs": [
    {
     "data": {
      "text/plain": [
       "'2017-08-26T12:23:29.536962'"
      ]
     },
     "execution_count": 32,
     "metadata": {},
     "output_type": "execute_result"
    }
   ],
   "source": [
    "datetime.datetime.now().isoformat()"
   ]
  },
  {
   "cell_type": "code",
   "execution_count": 25,
   "metadata": {},
   "outputs": [],
   "source": [
    "NOW = datetime.datetime.now().isoformat()[0: 10]"
   ]
  },
  {
   "cell_type": "code",
   "execution_count": 33,
   "metadata": {},
   "outputs": [
    {
     "data": {
      "text/plain": [
       "'2017-08-26'"
      ]
     },
     "execution_count": 33,
     "metadata": {},
     "output_type": "execute_result"
    }
   ],
   "source": [
    "NOW"
   ]
  },
  {
   "cell_type": "code",
   "execution_count": 35,
   "metadata": {
    "collapsed": true
   },
   "outputs": [],
   "source": [
    "import pptx\n",
    "import pptx.util\n",
    "from pptx import Presentation\n",
    "from pptx.util import Cm"
   ]
  },
  {
   "cell_type": "code",
   "execution_count": 2,
   "metadata": {
    "collapsed": true
   },
   "outputs": [],
   "source": [
    "types_of_slides = {'Title': 0,\n",
    "                   'Title and Content': 1,\n",
    "                   'Section Header': 2,\n",
    "                   'Two Content': 3,\n",
    "                   'Comparison': 4,\n",
    "                   'Title Only': 5,\n",
    "                   'Blank': 6,\n",
    "                   'Content with Caption': 7,\n",
    "                   'Picture with Caption': 8}"
   ]
  },
  {
   "cell_type": "code",
   "execution_count": 47,
   "metadata": {
    "collapsed": true
   },
   "outputs": [],
   "source": [
    "prs = Presentation('belisario_template.pptx')\n",
    "slide_layout = prs.slide_layouts[types_of_slides['Blank']]"
   ]
  },
  {
   "cell_type": "code",
   "execution_count": 44,
   "metadata": {},
   "outputs": [],
   "source": [
    "left = Cm(4.23)\n",
    "top = Cm(2.71)\n",
    "altura = Cm(22.69)\n",
    "slide = prs.slides.add_slide(slide_layout)\n",
    "slide.shapes.add_picture('Mapa_{}.png'.format('Afghanistan'), left, top, height=altura)\n",
    "prs.save('reporte_Belisario_{}.pptx'.format(NOW))"
   ]
  },
  {
   "cell_type": "code",
   "execution_count": 48,
   "metadata": {
    "collapsed": true
   },
   "outputs": [],
   "source": [
    "for pais in paises:\n",
    "    left = Cm(4.23)\n",
    "    top = Cm(2.71)\n",
    "    altura = Cm(22.69)\n",
    "    slide = prs.slides.add_slide(slide_layout)\n",
    "    slide.shapes.add_picture('Mapa_{}.png'.format(pais), left, top, height=altura)\n",
    "prs.save('reporte_Belisario_{}.pptx'.format(NOW))"
   ]
  },
  {
   "cell_type": "code",
   "execution_count": 49,
   "metadata": {},
   "outputs": [
    {
     "data": {
      "text/plain": [
       "['Afghanistan',\n",
       " 'Angola',\n",
       " 'Albania',\n",
       " 'United Arab Emirates',\n",
       " 'Argentina',\n",
       " 'Armenia',\n",
       " 'Fr. S. Antarctic Lands',\n",
       " 'Australia',\n",
       " 'Austria',\n",
       " 'Azerbaijan',\n",
       " 'Burundi',\n",
       " 'Belgium',\n",
       " 'Benin',\n",
       " 'Burkina Faso',\n",
       " 'Bangladesh',\n",
       " 'Bulgaria',\n",
       " 'Bahamas',\n",
       " 'Bosnia and Herz.',\n",
       " 'Belarus',\n",
       " 'Belize']"
      ]
     },
     "execution_count": 49,
     "metadata": {},
     "output_type": "execute_result"
    }
   ],
   "source": [
    "paises"
   ]
  },
  {
   "cell_type": "code",
   "execution_count": null,
   "metadata": {
    "collapsed": true
   },
   "outputs": [],
   "source": []
  }
 ],
 "metadata": {
  "kernelspec": {
   "display_name": "Python 3",
   "language": "python",
   "name": "python3"
  },
  "language_info": {
   "codemirror_mode": {
    "name": "ipython",
    "version": 3
   },
   "file_extension": ".py",
   "mimetype": "text/x-python",
   "name": "python",
   "nbconvert_exporter": "python",
   "pygments_lexer": "ipython3",
   "version": "3.6.1"
  }
 },
 "nbformat": 4,
 "nbformat_minor": 2
}
