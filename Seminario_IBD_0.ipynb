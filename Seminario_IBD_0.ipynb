{
 "cells": [
  {
   "cell_type": "markdown",
   "metadata": {},
   "source": [
    "<img src=\"http://www.senado.gob.mx/ibd/imgs/sen_05.png\", width=800>"
   ]
  },
  {
   "cell_type": "markdown",
   "metadata": {},
   "source": [
    "    Métodos Computacionales para Ciencias Sociales [en Python]\n",
    "\n",
    "\n",
    "    - Manuel Aragonés Mora              m@dive.ai\n",
    "    - Andrés Ponce de León Rosas        ap@entropylabs.science\n",
    "    \n",
    "    \n",
    "    Estructura Sesión:\n",
    "    ------------------\n",
    "    0. Reflexiones iniciales\n",
    "    1. Por qué computer science en ciencias sociales\n",
    "    2. Algoritmos\n",
    "    3. Ejemplos de Políticas Públicas y Computer Science\n",
    "    if instalación ok:\n",
    "        4. Intro a Jupyter\n",
    "        5. Básicos de Python\n",
    "    else:\n",
    "        4. Instalación"
   ]
  },
  {
   "cell_type": "markdown",
   "metadata": {},
   "source": [
    "# Reflexiones Iniciales:"
   ]
  },
  {
   "cell_type": "markdown",
   "metadata": {},
   "source": [
    "<img src=\"http://www.azquotes.com/picture-quotes/quote-computer-science-is-no-more-about-computers-than-astronomy-is-about-telescopes-edsger-dijkstra-7-85-17.jpg\", width=800>"
   ]
  },
  {
   "cell_type": "markdown",
   "metadata": {},
   "source": [
    "                                                            \"Computer science is the study of computation\n",
    "                                                             what can be computed and how to compute it.\"\n",
    "\n",
    "                                                                                      - Jeannette M. Wing"
   ]
  },
  {
   "cell_type": "markdown",
   "metadata": {},
   "source": [
    "<img src=\"http://vlhcc2011.cs.cmu.edu/resources/jeannette_wing.jpg\", width=300>"
   ]
  },
  {
   "cell_type": "markdown",
   "metadata": {},
   "source": [
    "## Computational Thinking (CT)"
   ]
  },
  {
   "cell_type": "markdown",
   "metadata": {},
   "source": [
    "<div class=\"alert alert-info\" role=\"alert\">\n",
    "  <strong>CT -> A fundamental skill for everyone:</strong>\n",
    "  <hr>\n",
    "  - Reading\n",
    "  <hr>\n",
    "  - Writing\n",
    "  <hr>\n",
    "  - Arithmetic\n",
    "  <hr>\n",
    "  + Computational thinking\n",
    "</div>\n",
    "<div class=\"alert alert-warning\" role=\"alert\">\n",
    "  <strong> CT - > helps to:</strong> \n",
    "  <hr>\n",
    "  - Solve problems\n",
    "  <hr>\n",
    "  - Design systems\n",
    "  <hr>\n",
    "  - Understand human behavior\n",
    "</div>\n",
    "<div class=\"alert alert-danger\" role=\"alert\">\n",
    "  <strong>CT -> requires:</strong>\n",
    "  <hr>\n",
    "  - Fragmentation\n",
    "  <hr>\n",
    "  - Simulation\n",
    "  <hr>\n",
    "  - Transformation\n",
    "</div>\n",
    "<div class=\"alert alert-success\" role=\"alert\">\n",
    "  <strong>CT -> MINDSET:</strong>\n",
    "  <hr>\n",
    "  - Recursion\n",
    "  <hr>\n",
    "  - Distributed & parallel processing\n",
    "  <hr>\n",
    "  - Correctness + efficiency + **aesthetics**\n",
    "  <hr>\n",
    "  - Modularity\n",
    "</div>"
   ]
  },
  {
   "cell_type": "markdown",
   "metadata": {},
   "source": [
    "<div class=\"alert alert-info\" role=\"alert\">\n",
    "Considerando sus ventajas como campo del conocimiento, no es casualidad que cada vez más estudiantes buscan un curso introductorio de CS:"
   ]
  },
  {
   "cell_type": "markdown",
   "metadata": {},
   "source": [
    "<img src=\"https://cdn.theatlantic.com/assets/media/img/posts/fall-enrollment-figures-at-harvard-college-intro-to-economics-intro-to-computer-science_chartbuilder.png\", width=800>"
   ]
  },
  {
   "cell_type": "markdown",
   "metadata": {},
   "source": [
    "# CS en otros campos"
   ]
  },
  {
   "cell_type": "markdown",
   "metadata": {},
   "source": [
    "<img src=\"http://www.azquotes.com/picture-quotes/quote-it-from-bit-symbolizes-the-idea-that-every-item-of-the-physical-world-has-at-bottom-john-archibald-wheeler-71-21-55.jpg\", width=800>"
   ]
  },
  {
   "cell_type": "markdown",
   "metadata": {},
   "source": [
    "# CS en ciencias sociales"
   ]
  },
  {
   "cell_type": "markdown",
   "metadata": {},
   "source": [
    "<img src=\"https://images-na.ssl-images-amazon.com/images/I/51E-m-ll7yL._SX326_BO1,204,203,200_.jpg\", width=300>    "
   ]
  },
  {
   "cell_type": "markdown",
   "metadata": {},
   "source": [
    "# Es CS una ciencia social?"
   ]
  },
  {
   "cell_type": "markdown",
   "metadata": {},
   "source": [
    "    Recomendación: http://www.achangeiscoming.net/docs/cssocsci.html"
   ]
  },
  {
   "cell_type": "markdown",
   "metadata": {},
   "source": [
    "\n",
    "    Temas que analiza Computer science:\n",
    "     - Seguridad\n",
    "     - Privacidad\n",
    "     - e-voting\n",
    "     - Automatización\n",
    "     - ... \"key issues related to people and the way they\n",
    "            communicate and organize themselves, rather\n",
    "            than discovering the underlying physical laws\n",
    "            of the universe -- in short, the domain of\n",
    "            social sciences\""
   ]
  },
  {
   "cell_type": "markdown",
   "metadata": {},
   "source": [
    "# Algoritmos"
   ]
  },
  {
   "cell_type": "markdown",
   "metadata": {},
   "source": [
    "    Definición: Conjunto de instrucciones para resolver un problema (step by step)."
   ]
  },
  {
   "cell_type": "markdown",
   "metadata": {},
   "source": [
    "## Eficiencia"
   ]
  },
  {
   "cell_type": "markdown",
   "metadata": {},
   "source": [
    "     Polynomial (P):\n",
    "     ----------------\n",
    "     - linear\n",
    "     - log\n",
    "     - exponential\n",
    "\n",
    "     Non-polynomial Deterministic (NP):\n",
    "     ---------------------------------\n",
    "     - sudoku\n",
    "     - Public-key crypto\n",
    "     \n",
    "     NOT P or NP:\n",
    "     ------------\n",
    "     - chess\n",
    "     - tetris\n",
    "     - halting problem\n",
    "     \n",
    "     1971. P vs NP\n",
    "     -------------\n",
    "         - Nash\n",
    "         - John von Neumann\n",
    "\n",
    "     "
   ]
  },
  {
   "cell_type": "markdown",
   "metadata": {},
   "source": [
    "<img src=\"http://cs.joensuu.fi/~appro/ics/images/kasvunopeudet.png\", width=600>"
   ]
  },
  {
   "cell_type": "markdown",
   "metadata": {},
   "source": [
    "## Ejemplo: Algoritmo Contar Personas"
   ]
  },
  {
   "cell_type": "markdown",
   "metadata": {},
   "source": [
    "<div class=\"alert alert-info\" role=\"alert\">\n",
    "Dinámica --> Contarse de la manera más eficiente"
   ]
  },
  {
   "cell_type": "markdown",
   "metadata": {},
   "source": [
    "<img src=\"https://countingsoftware.biz/images/index09.png\", width=500>"
   ]
  },
  {
   "cell_type": "markdown",
   "metadata": {},
   "source": [
    "    Algoritmo contar (de uno en uno) en pseudocode:\n",
    "    -----------------------------------------------\n",
    "    sea N = 0\n",
    "    para cada persona en el cuarto\n",
    "    sea N = N + 1\n",
    "    \n",
    "    \n",
    "    cómo sería de dos en dos?"
   ]
  },
  {
   "cell_type": "markdown",
   "metadata": {},
   "source": [
    "## Si contamos a todos en la tierra, cuántos años tardaríamos?"
   ]
  },
  {
   "cell_type": "code",
   "execution_count": 55,
   "metadata": {
    "collapsed": false,
    "scrolled": true
   },
   "outputs": [],
   "source": [
    "total_personas = 7000000000\n",
    "chunks = 2\n",
    "segundos_por_cuenta = 1"
   ]
  },
  {
   "cell_type": "code",
   "execution_count": 56,
   "metadata": {
    "collapsed": false
   },
   "outputs": [
    {
     "name": "stdout",
     "output_type": "stream",
     "text": [
      "Contar 7000000000 personas de 2 en 2 tomaría 110.98  años\n",
      "El número final de pasos necesarios es :  3500000000.0\n"
     ]
    }
   ],
   "source": [
    "total_cuentas = total_personas / chunks\n",
    "segundos = total_cuentas * segundos_por_cuenta\n",
    "minutos = segundos / 60\n",
    "horas = minutos / 60\n",
    "dias = horas / 24\n",
    "años = round(dias / 365, 2)\n",
    "print('Contar', total_personas, 'personas', 'de {} en {}'.format(chunks, chunks), 'tomaría {} '.format(años), 'años')\n",
    "print('El número final de pasos necesarios es : ', total_cuentas)"
   ]
  },
  {
   "cell_type": "markdown",
   "metadata": {},
   "source": [
    "## ... y si los contamos correctamente?"
   ]
  },
  {
   "cell_type": "code",
   "execution_count": 57,
   "metadata": {
    "collapsed": true
   },
   "outputs": [],
   "source": [
    "def pasos(numero_de_personas):\n",
    "    numero_de_pasos = 0\n",
    "    while numero_de_personas != 1:\n",
    "        if numero_de_personas%2 == 0:\n",
    "            numero_de_personas = numero_de_personas / 2\n",
    "        else:\n",
    "            numero_de_personas = (numero_de_personas + 1) / 2\n",
    "        numero_de_pasos += 1\n",
    "    print('El número final de pasos necesarios es : ', numero_de_pasos)"
   ]
  },
  {
   "cell_type": "code",
   "execution_count": 60,
   "metadata": {
    "collapsed": false
   },
   "outputs": [
    {
     "name": "stdout",
     "output_type": "stream",
     "text": [
      "El número final de pasos necesarios es :  33\n"
     ]
    }
   ],
   "source": [
    "pasos(total_personas)"
   ]
  },
  {
   "cell_type": "markdown",
   "metadata": {},
   "source": [
    "# Aplicaciones en Política Pública:"
   ]
  },
  {
   "cell_type": "markdown",
   "metadata": {},
   "source": [
    "    (1) Computational Development:\n",
    "    --------------------------\n",
    "    Recommender Systems para empleo:\n",
    "    https://dssg.uchicago.edu/project/camara-municipal-de-cascais/\n",
    "    \n",
    "    Recommender Systems para Desarrollo Económico:\n",
    "    https://github.com/andrespdlr/computational_economics/blob/master/ML_project_12%2009%202015.pdf"
   ]
  },
  {
   "cell_type": "markdown",
   "metadata": {},
   "source": [
    "<img src=\"https://cdn-images-1.medium.com/max/2000/1*G8A_GCdn8iI1rjB5HkosPQ.jpeg\", width=300>"
   ]
  },
  {
   "cell_type": "markdown",
   "metadata": {},
   "source": [
    "    (2) ciudades inteligentes:\n",
    "    ----------------------\n",
    "    Ciudades como un organismos vivos\n",
    "     - Todas sus variables comunicándose\n",
    "     - Su infraestructura física modelada con base en movilidad\n",
    "         - Cities' Fingerprints\n",
    "     - Internet of things\n",
    "     - Modelos predictivos de atención ciudadana\n",
    "     - Smart warnings"
   ]
  },
  {
   "cell_type": "markdown",
   "metadata": {},
   "source": [
    "<img src=\"https://tr2.cbsistatic.com/hub/i/r/2016/05/12/3e26bf96-e5a5-4d69-94b8-6720736921c8/resize/1230x/3497f46795240e90c359d03666eedb41/istock000087614919medium.jpg\", width=500>"
   ]
  },
  {
   "cell_type": "markdown",
   "metadata": {},
   "source": [
    "# Intro a Jupyter:"
   ]
  },
  {
   "cell_type": "markdown",
   "metadata": {},
   "source": [
    "<img src=\"https://donjayamanne.gallerycdn.vsassets.io/extensions/donjayamanne/jupyter/1.1.3/1493992150869/Microsoft.VisualStudio.Services.Icons.Default\", width=300>"
   ]
  },
  {
   "cell_type": "markdown",
   "metadata": {},
   "source": [
    "    Recomendación: https://www.youtube.com/watch?v=Rc4JQWowG5I"
   ]
  },
  {
   "cell_type": "markdown",
   "metadata": {},
   "source": [
    "# Conceptos Básicos:"
   ]
  },
  {
   "cell_type": "code",
   "execution_count": 2,
   "metadata": {
    "collapsed": false
   },
   "outputs": [
    {
     "name": "stdout",
     "output_type": "stream",
     "text": [
      "Hello, world!\n"
     ]
    }
   ],
   "source": [
    "print(\"Hello, world!\")"
   ]
  },
  {
   "cell_type": "code",
   "execution_count": 4,
   "metadata": {
    "collapsed": false
   },
   "outputs": [
    {
     "name": "stdout",
     "output_type": "stream",
     "text": [
      "Hello, world!\n"
     ]
    }
   ],
   "source": [
    "mensaje = \"Hello, world!\"\n",
    "print(mensaje)"
   ]
  },
  {
   "cell_type": "markdown",
   "metadata": {},
   "source": [
    "# Types"
   ]
  },
  {
   "cell_type": "code",
   "execution_count": 6,
   "metadata": {
    "collapsed": true
   },
   "outputs": [],
   "source": [
    "a = 1\n",
    "b = 1.0\n",
    "c = '1'"
   ]
  },
  {
   "cell_type": "code",
   "execution_count": 10,
   "metadata": {
    "collapsed": false
   },
   "outputs": [
    {
     "name": "stdout",
     "output_type": "stream",
     "text": [
      "1 1.0 1\n"
     ]
    }
   ],
   "source": [
    "print(a, b, c)"
   ]
  },
  {
   "cell_type": "code",
   "execution_count": 7,
   "metadata": {
    "collapsed": false
   },
   "outputs": [
    {
     "data": {
      "text/plain": [
       "int"
      ]
     },
     "execution_count": 7,
     "metadata": {},
     "output_type": "execute_result"
    }
   ],
   "source": [
    "type(a)"
   ]
  },
  {
   "cell_type": "code",
   "execution_count": 8,
   "metadata": {
    "collapsed": false
   },
   "outputs": [
    {
     "data": {
      "text/plain": [
       "float"
      ]
     },
     "execution_count": 8,
     "metadata": {},
     "output_type": "execute_result"
    }
   ],
   "source": [
    "type(b)"
   ]
  },
  {
   "cell_type": "code",
   "execution_count": 9,
   "metadata": {
    "collapsed": false
   },
   "outputs": [
    {
     "data": {
      "text/plain": [
       "str"
      ]
     },
     "execution_count": 9,
     "metadata": {},
     "output_type": "execute_result"
    }
   ],
   "source": [
    "type(c)"
   ]
  }
 ],
 "metadata": {
  "kernelspec": {
   "display_name": "Python 3",
   "language": "python",
   "name": "python3"
  },
  "language_info": {
   "codemirror_mode": {
    "name": "ipython",
    "version": 3
   },
   "file_extension": ".py",
   "mimetype": "text/x-python",
   "name": "python",
   "nbconvert_exporter": "python",
   "pygments_lexer": "ipython3",
   "version": "3.6.0"
  }
 },
 "nbformat": 4,
 "nbformat_minor": 2
}
