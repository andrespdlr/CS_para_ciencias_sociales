{
 "cells": [
  {
   "cell_type": "markdown",
   "metadata": {},
   "source": [
    "<div class=\"alert alert-success\">\n",
    "**Requirements**\n",
    "</div>"
   ]
  },
  {
   "cell_type": "code",
   "execution_count": 2,
   "metadata": {},
   "outputs": [],
   "source": [
    "# DATA\n",
    "% matplotlib inline\n",
    "import matplotlib.pyplot as plt\n",
    "import numpy as np\n",
    "import pandas as pd\n",
    "plt.style.use('ggplot')\n",
    "\n",
    "# NLTK\n",
    "import nltk, re, pprint\n",
    "import string\n",
    "from nltk import word_tokenize\n",
    "from nltk.corpus import stopwords\n",
    "from nltk.stem import SnowballStemmer\n",
    "from nltk.probability import FreqDist\n",
    "import urllib\n",
    "from urllib import request\n",
    "from urllib.request import urlopen\n",
    "from bs4 import BeautifulSoup"
   ]
  },
  {
   "cell_type": "markdown",
   "metadata": {},
   "source": [
    "<div class=\"alert alert-success\">\n",
    "**Functions**\n",
    "</div>"
   ]
  },
  {
   "cell_type": "code",
   "execution_count": 3,
   "metadata": {
    "collapsed": true
   },
   "outputs": [],
   "source": [
    "def raw_url(url):\n",
    "    ''' Extracts the raw html from an url '''\n",
    "    html = request.urlopen(url).read().decode('latin-1')\n",
    "    soup = BeautifulSoup(html)\n",
    "    return str(soup)"
   ]
  },
  {
   "cell_type": "code",
   "execution_count": 4,
   "metadata": {
    "collapsed": true
   },
   "outputs": [],
   "source": [
    "def strip_html(url):\n",
    "    ''' Extracts the principal content from a url and returns a list'''\n",
    "    from urllib import request\n",
    "    from bs4 import BeautifulSoup\n",
    "    html = request.urlopen(url).read().decode('latin-1')\n",
    "    soup = BeautifulSoup(html,\"lxml\")\n",
    "    [s.extract() for s in soup('script')]\n",
    "    raw = soup.get_text()\n",
    "    raw = re.sub(' +', ' ', raw)\n",
    "    raw = re.sub('\\x93', '\"', raw)\n",
    "    raw = re.sub('\\x94', '\"', raw)\n",
    "    raw = re.split(r'[\\t\\n\\xa0\\|]+', raw)\n",
    "    rv = []\n",
    "    for x in raw:\n",
    "        rv.append(x.strip())    \n",
    "    return rv"
   ]
  },
  {
   "cell_type": "code",
   "execution_count": 5,
   "metadata": {},
   "outputs": [],
   "source": [
    "def alphanumeric_split(s):\n",
    "    try:\n",
    "        r = re.compile(\"([0-9]+)([a-zA-Z]+)\")\n",
    "        m = r.match(s)\n",
    "        return m.group(1), m.group(2)\n",
    "    except AttributeError:\n",
    "        return s, \"Nothing\""
   ]
  },
  {
   "cell_type": "code",
   "execution_count": 6,
   "metadata": {
    "collapsed": true
   },
   "outputs": [],
   "source": [
    "def extract_text(text):\n",
    "    ''' This function extracts a list with relevant words from a string '''\n",
    "    tokens = word_tokenize(text)\n",
    "    new_text = [w for w in tokens if w not in stopwords.words('spanish') and w.isalnum()]    \n",
    "    return new_text"
   ]
  },
  {
   "cell_type": "code",
   "execution_count": 7,
   "metadata": {},
   "outputs": [],
   "source": [
    "BENCHMARK_countries = [\"ARG\",  \"BOL\",  \"BRA\",  \"CHL\",  \"COL\", \"ECU\", \n",
    "                       \"PER\",  \"PRY\",  \"URY\",  \"VEN\",  \"GEO\", \"CHE\"]\n",
    "\n",
    "path_start = 'https://www.constituteproject.org/constitution/'\n",
    "path_end   = '?lang=en' \n",
    "\n",
    "constitutions = {\"ARG\": 'Argentina_1994',\n",
    "                 \"BOL\": 'Bolivia_2009',\n",
    "                 \"BRA\": 'Brazil_2014',  \n",
    "                 \"CHL\": 'Chile_2014',\n",
    "                 \"COL\": 'Colombia_2013',\n",
    "                 \"ECU\": 'Ecuador_2011',\n",
    "                 \"PER\": 'Peru_2009',\n",
    "                 \"PRY\": 'Paraguay_2011',  \n",
    "                 \"URY\": 'Uruguay_2004',\n",
    "                 \"VEN\": 'Venezuela_2009',\n",
    "                 \"GEO\": 'Georgia_2013', \n",
    "                 \"CHE\": 'Switzerland_2014',\n",
    "                 \"USA\": 'United_States_of_America_1992'}"
   ]
  },
  {
   "cell_type": "code",
   "execution_count": 8,
   "metadata": {
    "collapsed": true
   },
   "outputs": [],
   "source": [
    "def hedge(text, word = \" \"):\n",
    "    ''' Inserts a word in between words | Default = \" \" '''\n",
    "    new_text = []\n",
    "    for i, w in enumerate(text):\n",
    "        if i % 1 == 0 and i != len(text) - 1:\n",
    "            new_text.append(w)\n",
    "            new_text.append(word)            \n",
    "        else:\n",
    "            new_text.append(w)\n",
    "    return new_text"
   ]
  },
  {
   "cell_type": "code",
   "execution_count": 9,
   "metadata": {
    "collapsed": true
   },
   "outputs": [],
   "source": [
    "def relevant_words_extractor(text):\n",
    "    raw = re.split(r'[\\s]+', text)\n",
    "    content = [w for w in raw if w.lower() not in stopwords.words('english')]\n",
    "    content_spaces = hedge(content, word = \" \")\n",
    "    rv = ''.join(content_spaces)\n",
    "    return rv"
   ]
  },
  {
   "cell_type": "code",
   "execution_count": 10,
   "metadata": {},
   "outputs": [],
   "source": [
    "def constitution(country, complete = True):\n",
    "    ''' Extracts the constitution of a country either complete or without stop words'''\n",
    "    trash = ['', 'Share', 'Home', 'No provisions found', 'Try a new topic or search term.']\n",
    "    raw_list = strip_html(path_start + constitutions[country] + path_end)\n",
    "    if complete == True:\n",
    "        constitution = [x for x in raw_list if x not in trash]\n",
    "    else:\n",
    "        constitution = []\n",
    "        for x in raw_list:\n",
    "            constitution.append(relevant_words_extractor(x))\n",
    "        constitution = [x for x in constitution if x not in trash]\n",
    "    return constitution"
   ]
  },
  {
   "cell_type": "code",
   "execution_count": 11,
   "metadata": {},
   "outputs": [],
   "source": [
    "def constitution_path_finder(country):\n",
    "    rv = []\n",
    "    raw = constitution(country)\n",
    "    for x in raw:\n",
    "        rv.append(len(x))\n",
    "    fig = plt.figure(figsize=(18,6))\n",
    "    plt.title(\"Pattern in {} Constitution\".format(country))\n",
    "    plt.xlabel(\"Entries\")\n",
    "    plt.ylabel(\"Lenght\")\n",
    "    plt.xlim(0, len(rv))\n",
    "    plt.ylim(0, max(rv))\n",
    "    plt.plot(rv)  "
   ]
  },
  {
   "cell_type": "code",
   "execution_count": 12,
   "metadata": {},
   "outputs": [],
   "source": [
    "def constitution_counter(country):\n",
    "    ''' Counts in a constitution a list of items '''\n",
    "    items = ['Part', 'Article', 'Chapter', 'Section']\n",
    "    count_part    = 0\n",
    "    count_article = 0\n",
    "    count_chapter = 0\n",
    "    count_section = 0\n",
    "    constitution_raw = constitution(country, True)\n",
    "    \n",
    "    for x in constitution_raw:\n",
    "        if x[0:4] == 'Part':\n",
    "            count_part += 1\n",
    "        elif x[0:7] == 'Article' or x[0:3] == 'Art':\n",
    "            count_article += 1\n",
    "        elif x[0:7] == 'Chapter':\n",
    "            count_chapter += 1    \n",
    "        elif x[0:7] == 'Section':\n",
    "            count_section += 1\n",
    "    \n",
    "    rv = pd.DataFrame({'Parts': [count_part], 'Articles': [count_article],\n",
    "                       'Chapters': [count_chapter], 'Sections': [count_section]})\n",
    "    \n",
    "    return rv"
   ]
  },
  {
   "cell_type": "code",
   "execution_count": 13,
   "metadata": {
    "collapsed": true
   },
   "outputs": [],
   "source": [
    "def constitution_issue_finder(country, issue):\n",
    "    ''' Counts issue in a constitution '''\n",
    "    constitution_raw = constitution(country, True)\n",
    "    rv = []\n",
    "    for x in constitution_raw:\n",
    "        x_count = 0\n",
    "        x_list = re.split(r'[\\s]+', x)\n",
    "        for xx in x_list:\n",
    "            if xx == issue:\n",
    "                x_count += 1\n",
    "        rv.append(x_count)\n",
    "    return sum(rv)"
   ]
  },
  {
   "cell_type": "code",
   "execution_count": 15,
   "metadata": {},
   "outputs": [
    {
     "name": "stdout",
     "output_type": "stream",
     "text": [
      "ARG 2\n",
      "BOL 8\n",
      "BRA 7\n",
      "CHL 14\n",
      "COL 7\n",
      "ECU 21\n",
      "PER 16\n",
      "PRY 14\n",
      "URY 1\n",
      "VEN 8\n",
      "GEO 4\n",
      "CHE 12\n",
      "USA 1\n"
     ]
    }
   ],
   "source": [
    "for country in constitutions.keys():\n",
    "    print(country, constitution_issue_finder(country, 'freedom'))"
   ]
  }
 ],
 "metadata": {
  "kernelspec": {
   "display_name": "Python 3",
   "language": "python",
   "name": "python3"
  },
  "language_info": {
   "codemirror_mode": {
    "name": "ipython",
    "version": 3
   },
   "file_extension": ".py",
   "mimetype": "text/x-python",
   "name": "python",
   "nbconvert_exporter": "python",
   "pygments_lexer": "ipython3",
   "version": "3.6.1"
  }
 },
 "nbformat": 4,
 "nbformat_minor": 1
}
